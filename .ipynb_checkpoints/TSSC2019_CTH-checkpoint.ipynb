{
 "cells": [
  {
   "cell_type": "code",
   "execution_count": null,
   "metadata": {},
   "outputs": [],
   "source": [
    "# Creator:     Zhichuan Li   lizhichuan2012@gmail.com\n",
    "# Create date: 2019-04-10\n",
    "# Description: Source code for TSSC2019 big data challange\n",
    "\n",
    "import csv\n",
    "\n",
    "# load dataset\n",
    "\n",
    "# total 22 signal ID\n",
    "home_folder = \"D:\\\\03_Projects\\\\git_repository\\\\dataset\\\\TSSC2019\"\n",
    "signalid_list = [7076,7122,7123,7124,7125,7126,7127,7128,7129,7180,7181,7182,7183,7184,7185,7186,7187,7188,7189,7190,7241,7342]\n",
    "\n",
    "# each signal ID contains 12 csv files which represent the 12 months' data. naming:<month-number>_<signalid>\n",
    "for signalid in signalid_list:\n",
    "    for month in range(1,13):\n",
    "        file_name = str(month) +\"_\" + str(signalid) + \".csv\"        # 1_7076.csv ...12_7076.csv\n",
    "        file_path = home_folder +\"\\\\\"+ str(signalid) + \"\\\\\"+ str(file_name)\n",
    "        print(file_path)\n",
    "        with open(file_path) as csvfile:\n",
    "            readCSV = csv.reader(csvfile, delimiter=',')\n",
    "            for row in readCSV:\n",
    "                print(row)     \n",
    "    \n",
    "\n",
    "        "
   ]
  },
  {
   "cell_type": "code",
   "execution_count": null,
   "metadata": {},
   "outputs": [],
   "source": []
  }
 ],
 "metadata": {
  "kernelspec": {
   "display_name": "Python [conda env:Anaconda3]",
   "language": "python",
   "name": "conda-env-Anaconda3-py"
  },
  "language_info": {
   "codemirror_mode": {
    "name": "ipython",
    "version": 3
   },
   "file_extension": ".py",
   "mimetype": "text/x-python",
   "name": "python",
   "nbconvert_exporter": "python",
   "pygments_lexer": "ipython3",
   "version": "3.5.6"
  }
 },
 "nbformat": 4,
 "nbformat_minor": 2
}
